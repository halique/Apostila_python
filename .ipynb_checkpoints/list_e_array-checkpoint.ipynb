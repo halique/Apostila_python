{
 "cells": [
  {
   "cell_type": "markdown",
   "id": "b22caf6a",
   "metadata": {
    "toc": true
   },
   "source": [
    "<h1>Sumário<span class=\"tocSkip\"></span></h1>\n",
    "<div class=\"toc\"><ul class=\"toc-item\"><li><span><a href=\"#lista:-list[---]\" data-toc-modified-id=\"lista:-list[---]-1\"><span class=\"toc-item-num\">1&nbsp;&nbsp;</span>lista: list[   ]</a></span><ul class=\"toc-item\"><li><span><a href=\"#Indexing\" data-toc-modified-id=\"Indexing-1.1\"><span class=\"toc-item-num\">1.1&nbsp;&nbsp;</span>Indexing</a></span></li><li><span><a href=\"#Slicing\" data-toc-modified-id=\"Slicing-1.2\"><span class=\"toc-item-num\">1.2&nbsp;&nbsp;</span>Slicing</a></span></li><li><span><a href=\"#Metodo-de-objetos-de-list.\" data-toc-modified-id=\"Metodo-de-objetos-de-list.-1.3\"><span class=\"toc-item-num\">1.3&nbsp;&nbsp;</span>Metodo de objetos de list.</a></span></li><li><span><a href=\"#lista-com-duas-dimensões-ou-Matriz-2D\" data-toc-modified-id=\"lista-com-duas-dimensões-ou-Matriz-2D-1.4\"><span class=\"toc-item-num\">1.4&nbsp;&nbsp;</span>lista com duas dimensões ou Matriz 2D</a></span></li></ul></li><li><span><a href=\"#Arrays\" data-toc-modified-id=\"Arrays-2\"><span class=\"toc-item-num\">2&nbsp;&nbsp;</span>Arrays</a></span></li></ul></div>"
   ]
  },
  {
   "cell_type": "markdown",
   "id": "beaadadb",
   "metadata": {},
   "source": [
    "# lista: list[   ]"
   ]
  },
  {
   "cell_type": "markdown",
   "id": "1f63648a",
   "metadata": {
    "lang": "en"
   },
   "source": [
    "Na linguagem python,a lista é uma estrutura de dados que serve para armazenar uma coleção de dados. \n",
    "Uma única lista pode ser composto de varios elementos de diferentes tipos como string, números, objetos ou uma outra lista. \n",
    "\n",
    "Uma lista pode ser interpretada como um vetor \n",
    "\n",
    "Para criar uma lista 'vetor' precisa apenas:\n",
    "\n",
    "- Definir um nome para a lista.(qualquer nome menos 'list'. 'list' é uma palavra reservada no python).  \n",
    "Nome como 'list_1', 'list_A' podem ser utilizados.\n",
    "\n",
    "- Afetar dodas entre clochete para a variavél."
   ]
  },
  {
   "cell_type": "code",
   "execution_count": 1,
   "id": "76992ded",
   "metadata": {},
   "outputs": [
    {
     "data": {
      "text/plain": [
       "[]"
      ]
     },
     "execution_count": 1,
     "metadata": {},
     "output_type": "execute_result"
    }
   ],
   "source": [
    "#lista vazia\n",
    "lista_vazia = []\n",
    "lista_vazia"
   ]
  },
  {
   "cell_type": "code",
   "execution_count": 40,
   "id": "138228e4",
   "metadata": {},
   "outputs": [
    {
     "data": {
      "text/plain": [
       "['qualquer string', 20, 'objeto ou instância de uma classe', [0, 1, 5]]"
      ]
     },
     "execution_count": 40,
     "metadata": {},
     "output_type": "execute_result"
    }
   ],
   "source": [
    "#lista com varios tipos de dados\n",
    "lista = ['qualquer string', 20, 'objeto ou instância de uma classe', [0, 1, 5]]\n",
    "lista"
   ]
  },
  {
   "cell_type": "markdown",
   "id": "1df4bfca",
   "metadata": {},
   "source": [
    "Para saber quantos elementos uma lista possui, deve se usar a função 'len'\n",
    "\n"
   ]
  },
  {
   "cell_type": "code",
   "execution_count": 3,
   "id": "b51cec6a",
   "metadata": {},
   "outputs": [
    {
     "data": {
      "text/plain": [
       "4"
      ]
     },
     "execution_count": 3,
     "metadata": {},
     "output_type": "execute_result"
    }
   ],
   "source": [
    "len(lista)"
   ]
  },
  {
   "cell_type": "markdown",
   "id": "26f1e3b9",
   "metadata": {
    "heading_collapsed": true
   },
   "source": [
    "## Indexing"
   ]
  },
  {
   "cell_type": "markdown",
   "id": "433f9e56",
   "metadata": {
    "hidden": true
   },
   "source": [
    "Numa lista cada elemento possui um indice. O indexing, serve para obter um unico elemento de uma lista\n",
    "Na linguagem python,o indice [0] corresponde ao ao\n",
    "primeiro elemento da lista e o indice [-1] ao ultimo \n",
    "elemento.\n",
    "Assim pode se varer uma lista de forma positiva ou de forma negativa."
   ]
  },
  {
   "cell_type": "code",
   "execution_count": 4,
   "id": "89e39921",
   "metadata": {
    "hidden": true
   },
   "outputs": [
    {
     "data": {
      "text/plain": [
       "('string', 20, 'x', [40, 8, 10, 6])"
      ]
     },
     "execution_count": 4,
     "metadata": {},
     "output_type": "execute_result"
    }
   ],
   "source": [
    "#indexing positiva\n",
    "teste_lista = ['string', 20, 'x', [40, 8, 10, 6]]\n",
    "teste_lista[0], teste_lista[1], teste_lista[2], teste_lista[3]"
   ]
  },
  {
   "cell_type": "code",
   "execution_count": 5,
   "id": "7bb6c02d",
   "metadata": {
    "hidden": true
   },
   "outputs": [
    {
     "data": {
      "text/plain": [
       "([40, 8, 10, 6], 'x', 20, 'string')"
      ]
     },
     "execution_count": 5,
     "metadata": {},
     "output_type": "execute_result"
    }
   ],
   "source": [
    "#indexing negativa\n",
    "teste_lista = ['string', 20, 'x', [40, 8, 10, 6]]\n",
    "teste_lista[-1], teste_lista[-2], teste_lista[-3], teste_lista[-4]"
   ]
  },
  {
   "cell_type": "markdown",
   "id": "c00d9466",
   "metadata": {
    "hidden": true
   },
   "source": [
    "Para indexar um elemento da sublista '[40,8,10,6]' contido na lista 'teste_lista', deve se apontar primeiro '[40,8,10,6]' e em seguinda o elemeto desejado."
   ]
  },
  {
   "cell_type": "code",
   "execution_count": 6,
   "id": "2dac4792",
   "metadata": {
    "hidden": true
   },
   "outputs": [
    {
     "data": {
      "text/plain": [
       "[40, 8, 10, 6]"
      ]
     },
     "execution_count": 6,
     "metadata": {},
     "output_type": "execute_result"
    }
   ],
   "source": [
    "#indexando a sublista\n",
    "teste_lista[-1]"
   ]
  },
  {
   "cell_type": "code",
   "execution_count": 7,
   "id": "46883592",
   "metadata": {
    "hidden": true
   },
   "outputs": [
    {
     "data": {
      "text/plain": [
       "40"
      ]
     },
     "execution_count": 7,
     "metadata": {},
     "output_type": "execute_result"
    }
   ],
   "source": [
    "#um elemento da sublista\n",
    "teste_lista[-1][0]"
   ]
  },
  {
   "cell_type": "markdown",
   "id": "8b7d5a3c",
   "metadata": {
    "heading_collapsed": true
   },
   "source": [
    "## Slicing\n",
    "\n"
   ]
  },
  {
   "cell_type": "markdown",
   "id": "6c17e38f",
   "metadata": {
    "hidden": true
   },
   "source": [
    "Slicing:serve para obter uma sequencia de elementos de uma lista.\n",
    "\n",
    "Dado uma lista x:\n",
    "\n",
    "    x = [:] <=> toda a lista x,\n",
    "\n",
    "    x = [0:-1] <=> a lista x a partir do elemento 0 até o ultimo elemento,\n",
    "\n",
    "    x[::-1] <=> lista invertida\n",
    "\n",
    "    x[:-4:-1] <=> lista a partir do elemento -1 até o elemento -3\n",
    "\n",
    "    x[-3::-1] <=> lista invertida exceto os 2 ultimos numeros"
   ]
  },
  {
   "cell_type": "code",
   "execution_count": 8,
   "id": "065b576d",
   "metadata": {
    "hidden": true
   },
   "outputs": [
    {
     "data": {
      "text/plain": [
       "[0, 5, 4, 8, 6, 7, 12]"
      ]
     },
     "execution_count": 8,
     "metadata": {},
     "output_type": "execute_result"
    }
   ],
   "source": [
    "x = [0, 5, 4, 8, 6, 7, 12]\n",
    "x[:]"
   ]
  },
  {
   "cell_type": "code",
   "execution_count": 9,
   "id": "937676a1",
   "metadata": {
    "hidden": true
   },
   "outputs": [
    {
     "data": {
      "text/plain": [
       "([0, 5, 4, 8, 6, 7], [5, 0])"
      ]
     },
     "execution_count": 9,
     "metadata": {},
     "output_type": "execute_result"
    }
   ],
   "source": [
    "x[0:-1], x[1::-1]"
   ]
  },
  {
   "cell_type": "code",
   "execution_count": 10,
   "id": "2a2d066c",
   "metadata": {
    "hidden": true
   },
   "outputs": [
    {
     "data": {
      "text/plain": [
       "([12, 7, 6], [6, 8, 4, 5, 0])"
      ]
     },
     "execution_count": 10,
     "metadata": {},
     "output_type": "execute_result"
    }
   ],
   "source": [
    "x[:-4:-1], x[-3::-1]"
   ]
  },
  {
   "cell_type": "markdown",
   "id": "0373c471",
   "metadata": {
    "hidden": true
   },
   "source": [
    "Para obter elementos equidistance de uma lista, pode-se empregrar, slicing com passo.\n",
    "\n",
    "O formato geral : a[inicio, fim, passo] ou a[slice(inicio,fin,passo])"
   ]
  },
  {
   "cell_type": "code",
   "execution_count": 11,
   "id": "6538b90d",
   "metadata": {
    "hidden": true
   },
   "outputs": [],
   "source": [
    "a = [12, 5, 9, 65, 85, 78, 0, 45, 23]"
   ]
  },
  {
   "cell_type": "code",
   "execution_count": 12,
   "id": "66b1b43e",
   "metadata": {
    "hidden": true
   },
   "outputs": [
    {
     "data": {
      "text/plain": [
       "[12, 9, 85, 0, 23]"
      ]
     },
     "execution_count": 12,
     "metadata": {},
     "output_type": "execute_result"
    }
   ],
   "source": [
    "a[0::2]  # 1° passo = 12 a 5, 2° passo = 5 a 9"
   ]
  },
  {
   "cell_type": "code",
   "execution_count": 13,
   "id": "51ac2c09",
   "metadata": {
    "hidden": true
   },
   "outputs": [
    {
     "data": {
      "text/plain": [
       "[12, 9, 85, 0]"
      ]
     },
     "execution_count": 13,
     "metadata": {},
     "output_type": "execute_result"
    }
   ],
   "source": [
    "a[0:-1:2]"
   ]
  },
  {
   "cell_type": "code",
   "execution_count": 14,
   "id": "a629b1c6",
   "metadata": {
    "hidden": true
   },
   "outputs": [
    {
     "data": {
      "text/plain": [
       "[12, 9, 85, 0]"
      ]
     },
     "execution_count": 14,
     "metadata": {},
     "output_type": "execute_result"
    }
   ],
   "source": [
    "a[slice(0, -1, 2)]"
   ]
  },
  {
   "cell_type": "markdown",
   "id": "06da8838",
   "metadata": {
    "heading_collapsed": true
   },
   "source": [
    "## Metodo de objetos de list."
   ]
  },
  {
   "cell_type": "markdown",
   "id": "32704e51",
   "metadata": {
    "hidden": true
   },
   "source": [
    "Em geral, para resolver alguns problemas, manipulamos as listas através dos objetos.  \n",
    "Por exemplo, pode ser necessario numa situaçao, trocar, adicionar, remover ou copiar uma lista."
   ]
  },
  {
   "cell_type": "markdown",
   "id": "5d25c98d",
   "metadata": {
    "hidden": true
   },
   "source": [
    "- __lista.remove(x)__, permite remove o primeiro elemento cujo o valor é igual a x."
   ]
  },
  {
   "cell_type": "code",
   "execution_count": 15,
   "id": "a275b80c",
   "metadata": {
    "hidden": true
   },
   "outputs": [
    {
     "data": {
      "text/plain": [
       "[10, 87]"
      ]
     },
     "execution_count": 15,
     "metadata": {},
     "output_type": "execute_result"
    }
   ],
   "source": [
    "nums = [10, 50, 87]\n",
    "nums.remove(50)\n",
    "nums"
   ]
  },
  {
   "cell_type": "markdown",
   "id": "cad59d7f",
   "metadata": {
    "hidden": true
   },
   "source": [
    "- __lista.clear()__, permite deletar todos os elemtos da lista."
   ]
  },
  {
   "cell_type": "code",
   "execution_count": 16,
   "id": "4faee3f6",
   "metadata": {
    "hidden": true
   },
   "outputs": [
    {
     "data": {
      "text/plain": [
       "[10, 87]"
      ]
     },
     "execution_count": 16,
     "metadata": {},
     "output_type": "execute_result"
    }
   ],
   "source": [
    "nums"
   ]
  },
  {
   "cell_type": "code",
   "execution_count": 17,
   "id": "f3b119bb",
   "metadata": {
    "hidden": true
   },
   "outputs": [],
   "source": [
    "nums.clear()"
   ]
  },
  {
   "cell_type": "code",
   "execution_count": 45,
   "id": "7f03a7d3",
   "metadata": {
    "hidden": true
   },
   "outputs": [
    {
     "data": {
      "text/plain": [
       "[]"
      ]
     },
     "execution_count": 45,
     "metadata": {},
     "output_type": "execute_result"
    }
   ],
   "source": [
    "nums"
   ]
  },
  {
   "cell_type": "markdown",
   "id": "07f655d5",
   "metadata": {
    "hidden": true
   },
   "source": [
    "- __list.insert()__, permite inserir um elemento numa determinada posição."
   ]
  },
  {
   "cell_type": "code",
   "execution_count": 19,
   "id": "79624763",
   "metadata": {
    "hidden": true
   },
   "outputs": [
    {
     "data": {
      "text/plain": [
       "[9, 5, 20, 7, 6]"
      ]
     },
     "execution_count": 19,
     "metadata": {},
     "output_type": "execute_result"
    }
   ],
   "source": [
    "z = [9, 5, 7, 6]\n",
    "z.insert(2, 20)\n",
    "# Neste exemplo inseromos o valor {20}, na posição {2}.\n",
    "z"
   ]
  },
  {
   "cell_type": "markdown",
   "id": "539e49bd",
   "metadata": {
    "hidden": true
   },
   "source": [
    "- __lista.extend(argumento)__, permite adicionar um ou varios argumentos iteráveis na ultima posição da lista. Ou, seja um argumento que possui um dado indice."
   ]
  },
  {
   "cell_type": "code",
   "execution_count": 20,
   "id": "330d172e",
   "metadata": {
    "hidden": true
   },
   "outputs": [
    {
     "data": {
      "text/plain": [
       "[9, 5, 20, 7, 6, 0, 56, 8]"
      ]
     },
     "execution_count": 20,
     "metadata": {},
     "output_type": "execute_result"
    }
   ],
   "source": [
    "z = [9, 5, 20, 7, 6]\n",
    "w = [0, 56, 8]  # Note que W = [0,56,8] funcionará da mesma forma.\n",
    "z.extend(w)\n",
    "z"
   ]
  },
  {
   "cell_type": "code",
   "execution_count": 46,
   "id": "517b1824",
   "metadata": {
    "hidden": true
   },
   "outputs": [
    {
     "data": {
      "text/plain": [
       "[9, 5, 20, 7, 6, [0, 56, 8]]"
      ]
     },
     "execution_count": 46,
     "metadata": {},
     "output_type": "execute_result"
    }
   ],
   "source": [
    "#extend w=[[0,56,8]]adicionar uma nova lista na lista z\n",
    "z = [9, 5, 20, 7, 6]\n",
    "w = [[0, 56, 8]]\n",
    "z.extend(w)\n",
    "z"
   ]
  },
  {
   "cell_type": "code",
   "execution_count": 22,
   "id": "fc146b52",
   "metadata": {
    "hidden": true
   },
   "outputs": [
    {
     "ename": "TypeError",
     "evalue": "'int' object is not iterable",
     "output_type": "error",
     "traceback": [
      "\u001b[0;31m---------------------------------------------------------------------------\u001b[0m",
      "\u001b[0;31mTypeError\u001b[0m                                 Traceback (most recent call last)",
      "\u001b[0;32m/tmp/ipykernel_9620/1768754306.py\u001b[0m in \u001b[0;36m<module>\u001b[0;34m\u001b[0m\n\u001b[1;32m      2\u001b[0m \u001b[0mz1\u001b[0m \u001b[0;34m=\u001b[0m \u001b[0;34m[\u001b[0m\u001b[0;36m9\u001b[0m\u001b[0;34m,\u001b[0m \u001b[0;36m5\u001b[0m\u001b[0;34m,\u001b[0m \u001b[0;36m6\u001b[0m\u001b[0;34m]\u001b[0m\u001b[0;34m\u001b[0m\u001b[0;34m\u001b[0m\u001b[0m\n\u001b[1;32m      3\u001b[0m \u001b[0mw1\u001b[0m \u001b[0;34m=\u001b[0m \u001b[0;36m2\u001b[0m\u001b[0;34m\u001b[0m\u001b[0;34m\u001b[0m\u001b[0m\n\u001b[0;32m----> 4\u001b[0;31m \u001b[0mz1\u001b[0m\u001b[0;34m.\u001b[0m\u001b[0mextend\u001b[0m\u001b[0;34m(\u001b[0m\u001b[0mw1\u001b[0m\u001b[0;34m)\u001b[0m\u001b[0;34m\u001b[0m\u001b[0;34m\u001b[0m\u001b[0m\n\u001b[0m",
      "\u001b[0;31mTypeError\u001b[0m: 'int' object is not iterable"
     ]
    }
   ],
   "source": [
    "# Testando com argumento não itéravel\n",
    "z1 = [9, 5, 6]\n",
    "w1 = 2\n",
    "z1.extend(w1)"
   ]
  },
  {
   "cell_type": "markdown",
   "id": "6047c9d7",
   "metadata": {
    "hidden": true
   },
   "source": [
    "Nesse caso, a forma correta seria empregar o metodo 'append()'.\n",
    "- __lista.append()__, permite adicionar um elemento na ultima posiçao da lista."
   ]
  },
  {
   "cell_type": "code",
   "execution_count": 23,
   "id": "4d6d6930",
   "metadata": {
    "hidden": true
   },
   "outputs": [
    {
     "data": {
      "text/plain": [
       "[9, 5, 6, 2]"
      ]
     },
     "execution_count": 23,
     "metadata": {},
     "output_type": "execute_result"
    }
   ],
   "source": [
    "z1 = [9, 5, 6]\n",
    "w1 = 2\n",
    "z1.append(w1)\n",
    "z1"
   ]
  },
  {
   "cell_type": "markdown",
   "id": "deba6302",
   "metadata": {
    "hidden": true
   },
   "source": [
    "- __lista.pop(i)__, permite remover um élemento de uma dada posição e o retorna."
   ]
  },
  {
   "cell_type": "code",
   "execution_count": 24,
   "id": "78347085",
   "metadata": {
    "hidden": true
   },
   "outputs": [
    {
     "data": {
      "text/plain": [
       "'item3'"
      ]
     },
     "execution_count": 24,
     "metadata": {},
     "output_type": "execute_result"
    }
   ],
   "source": [
    "items = ['item0', 'item1', 'item2', 'item3', 'item4']\n",
    "items.pop(3)"
   ]
  },
  {
   "cell_type": "code",
   "execution_count": 25,
   "id": "3aa1b5a3",
   "metadata": {
    "hidden": true
   },
   "outputs": [
    {
     "data": {
      "text/plain": [
       "['item0', 'item1', 'item2', 'item4']"
      ]
     },
     "execution_count": 25,
     "metadata": {},
     "output_type": "execute_result"
    }
   ],
   "source": [
    "items"
   ]
  },
  {
   "cell_type": "markdown",
   "id": "4b55b9a9",
   "metadata": {
    "hidden": true
   },
   "source": [
    "    Caso nenhum índice é especificado, lista.pop() remove e devolve o último item da lista.   \n",
    "    Os colchetes, '[]' indica que o parâmetro 'i' é opcional."
   ]
  },
  {
   "cell_type": "code",
   "execution_count": 26,
   "id": "d8dd939c",
   "metadata": {
    "hidden": true
   },
   "outputs": [
    {
     "data": {
      "text/plain": [
       "'item4'"
      ]
     },
     "execution_count": 26,
     "metadata": {},
     "output_type": "execute_result"
    }
   ],
   "source": [
    "items.pop()"
   ]
  },
  {
   "cell_type": "markdown",
   "id": "06303822",
   "metadata": {
    "hidden": true
   },
   "source": [
    "- __lista.count(x)__, retorna quantos elementos {x} a lista contem. "
   ]
  },
  {
   "cell_type": "code",
   "execution_count": 27,
   "id": "aa8cf694",
   "metadata": {
    "hidden": true
   },
   "outputs": [
    {
     "data": {
      "text/plain": [
       "2"
      ]
     },
     "execution_count": 27,
     "metadata": {},
     "output_type": "execute_result"
    }
   ],
   "source": [
    "items = ['item0', 'item1', 'item0', 'item3', 'item4']\n",
    "items.count('item0')"
   ]
  },
  {
   "cell_type": "markdown",
   "id": "628309ff",
   "metadata": {
    "hidden": true
   },
   "source": [
    "- __lista.sort(iterable, *, key=None, reverse=False)__, retorna a lista com todos elementos ordenados.  "
   ]
  },
  {
   "cell_type": "code",
   "execution_count": 28,
   "id": "5cfc25d4",
   "metadata": {
    "hidden": true
   },
   "outputs": [
    {
     "data": {
      "text/plain": [
       "[0, 1, 1.01, 3, 9, 50, 88]"
      ]
     },
     "execution_count": 28,
     "metadata": {},
     "output_type": "execute_result"
    }
   ],
   "source": [
    "ordenar = [1, 0, 9, 50, 88, 3, 1.01]\n",
    "ordenar.sort(key=None, reverse=False)\n",
    "ordenar"
   ]
  },
  {
   "cell_type": "markdown",
   "id": "f99e725b",
   "metadata": {
    "hidden": true
   },
   "source": [
    "Observa-se que a saida do exemplo acima, retorna um lista em ordem crescente.  \n",
    "No caso que é preciso, manipular uma lista em ordem decrescente, o argumento {reverse = False} deve ser trocado para {reverse = True}."
   ]
  },
  {
   "cell_type": "code",
   "execution_count": 29,
   "id": "c4a02d58",
   "metadata": {
    "hidden": true
   },
   "outputs": [
    {
     "data": {
      "text/plain": [
       "[88, 50, 9, 3, 1.01, 1, 0]"
      ]
     },
     "execution_count": 29,
     "metadata": {},
     "output_type": "execute_result"
    }
   ],
   "source": [
    "ordenar = [1, 0, 9, 50, 88, 3, 1.01]\n",
    "ordenar.sort(key=None, reverse=True)\n",
    "ordenar"
   ]
  },
  {
   "cell_type": "markdown",
   "id": "b788bf65",
   "metadata": {
    "hidden": true
   },
   "source": [
    "O argumento {key = None} , se refere ao tipo dos elemento da lista.  \n",
    "Vamos testar com uma lista que contém elementos do tipo string.upper (maiúsculo)."
   ]
  },
  {
   "cell_type": "code",
   "execution_count": 30,
   "id": "8d42cded",
   "metadata": {
    "hidden": true
   },
   "outputs": [
    {
     "data": {
      "text/plain": [
       "['Gustavo', 'Halique', 'Otavio', 'Sylvio']"
      ]
     },
     "execution_count": 30,
     "metadata": {},
     "output_type": "execute_result"
    }
   ],
   "source": [
    "ordenar = [\n",
    "    'Halique',\n",
    "    'Otavio',\n",
    "    'Gustavo',\n",
    "    'Sylvio',\n",
    "]\n",
    "ordenar.sort(key=str.upper, reverse=False)\n",
    "ordenar"
   ]
  },
  {
   "cell_type": "markdown",
   "id": "60b310fa",
   "metadata": {
    "hidden": true
   },
   "source": [
    "Observa-se que a lista {ordenar} foi colocada na ordem alfabetica.  \n",
    "\n"
   ]
  },
  {
   "cell_type": "markdown",
   "id": "d28fcf9a",
   "metadata": {
    "hidden": true
   },
   "source": [
    "- __lista.reverse()__, permite inverter uma lista."
   ]
  },
  {
   "cell_type": "code",
   "execution_count": 79,
   "id": "76614596",
   "metadata": {
    "hidden": true
   },
   "outputs": [
    {
     "data": {
      "text/plain": [
       "[1, 0, 9, 50, 88, 3, 1.01]"
      ]
     },
     "execution_count": 79,
     "metadata": {},
     "output_type": "execute_result"
    }
   ],
   "source": [
    "ordenar = [1, 0, 9, 50, 88, 3, 1.01]\n",
    "ordenar"
   ]
  },
  {
   "cell_type": "code",
   "execution_count": 32,
   "id": "7b039af0",
   "metadata": {
    "hidden": true
   },
   "outputs": [
    {
     "data": {
      "text/plain": [
       "[1.01, 3, 88, 50, 9, 0, 1]"
      ]
     },
     "execution_count": 32,
     "metadata": {},
     "output_type": "execute_result"
    }
   ],
   "source": [
    "ordenar.reverse()\n",
    "ordenar"
   ]
  },
  {
   "cell_type": "markdown",
   "id": "33b179f9",
   "metadata": {
    "hidden": true
   },
   "source": [
    "Em alugumas, situaçoes, precisa-se fazer a copia de uma dada lista.  \n",
    "De forma, podemos pensar em atribuir a lista de referencia para uma nova variável.\n",
    "Vamos ver saida, dessa ideia."
   ]
  },
  {
   "cell_type": "code",
   "execution_count": 33,
   "id": "c39b71b4",
   "metadata": {
    "hidden": true
   },
   "outputs": [
    {
     "name": "stdout",
     "output_type": "stream",
     "text": [
      "[4, 6, 9, 8]\n",
      "[4, 6, 9, 8]\n"
     ]
    }
   ],
   "source": [
    "lista_1 = [50, 6, 9, 8]\n",
    "lista_2 = lista_1\n",
    "# vamos agora realizar umas operações.\n",
    "lista_2[0] = 4\n",
    "print(lista_1)\n",
    "print(lista_2)"
   ]
  },
  {
   "cell_type": "code",
   "execution_count": 34,
   "id": "73b21f89",
   "metadata": {
    "hidden": true
   },
   "outputs": [
    {
     "name": "stdout",
     "output_type": "stream",
     "text": [
      "[4, 6, 9, 8, 98]\n",
      "[4, 6, 9, 8, 98]\n"
     ]
    }
   ],
   "source": [
    "lista_1.append(98)\n",
    "print(lista_1)\n",
    "print(lista_2)"
   ]
  },
  {
   "cell_type": "markdown",
   "id": "2f41f12f",
   "metadata": {
    "hidden": true
   },
   "source": [
    "Nota-se que qualquer alteração em uma dessas listas vai ser transmitida para a outra. Isto é dévio á afetação: \n",
    "```python \n",
    "   lista_2 = lista_1 \n",
    "```\n",
    "- Para contornar esse problema, pode-se utilizar o metodo __copy()__.  "
   ]
  },
  {
   "cell_type": "code",
   "execution_count": 35,
   "id": "59a70517",
   "metadata": {
    "hidden": true
   },
   "outputs": [],
   "source": [
    "lista_1 = [50, 6, 9, 8]\n",
    "lista_2 = lista_1.copy()"
   ]
  },
  {
   "cell_type": "code",
   "execution_count": 36,
   "id": "6faaa96d",
   "metadata": {
    "hidden": true
   },
   "outputs": [
    {
     "name": "stdout",
     "output_type": "stream",
     "text": [
      "[50, 6, 9, 8]\n",
      "[4, 6, 9, 8]\n"
     ]
    }
   ],
   "source": [
    "lista_2[0] = 4\n",
    "print(lista_1)\n",
    "print(lista_2)"
   ]
  },
  {
   "cell_type": "code",
   "execution_count": 37,
   "id": "2fff2041",
   "metadata": {
    "hidden": true
   },
   "outputs": [
    {
     "name": "stdout",
     "output_type": "stream",
     "text": [
      "[50, 6, 9, 8, 98]\n",
      "[4, 6, 9, 8]\n"
     ]
    }
   ],
   "source": [
    "lista_1.append(98)\n",
    "print(lista_1)\n",
    "print(lista_2)"
   ]
  },
  {
   "cell_type": "markdown",
   "id": "ae0c91bf",
   "metadata": {
    "hidden": true
   },
   "source": [
    "- __lista.index(x)__, retorna o indice de um dado elemento."
   ]
  },
  {
   "cell_type": "code",
   "execution_count": 52,
   "id": "e121d4d6",
   "metadata": {
    "hidden": true
   },
   "outputs": [
    {
     "data": {
      "text/plain": [
       "3"
      ]
     },
     "execution_count": 52,
     "metadata": {},
     "output_type": "execute_result"
    }
   ],
   "source": [
    "lista_3 = [\n",
    "    'Luiz', 'Paul', 'Daniel', 'John', 'Daniel', 'John', 'Daniel', 'John'\n",
    "]\n",
    "lista_3.index('John')"
   ]
  },
  {
   "cell_type": "code",
   "execution_count": 53,
   "id": "21f7502c",
   "metadata": {
    "hidden": true
   },
   "outputs": [
    {
     "data": {
      "text/plain": [
       "5"
      ]
     },
     "execution_count": 53,
     "metadata": {},
     "output_type": "execute_result"
    }
   ],
   "source": [
    "lista_3.index('John', 3 + 1)"
   ]
  },
  {
   "cell_type": "code",
   "execution_count": 51,
   "id": "16b552b6",
   "metadata": {
    "hidden": true
   },
   "outputs": [
    {
     "data": {
      "text/plain": [
       "7"
      ]
     },
     "execution_count": 51,
     "metadata": {},
     "output_type": "execute_result"
    }
   ],
   "source": [
    "lista_3.index('John', 5 + 1)"
   ]
  },
  {
   "cell_type": "markdown",
   "id": "0b8094ee",
   "metadata": {
    "hidden": true
   },
   "source": [
    "\n",
    "Note que:\n",
    "\n",
    "```python \n",
    "lista_3.index('John'): retorna a 1º índice do elemento 'John'.\n",
    "```\n",
    "\n",
    "```python\n",
    "lista_3.index('John',3+1): retorna a 2º índice do elemento 'John' començando a busca na posição 4 da lista_3.\n",
    "\n",
    "```\n",
    " \n",
    "\n",
    "\n",
    "   "
   ]
  },
  {
   "cell_type": "markdown",
   "id": "137b5a74",
   "metadata": {},
   "source": [
    "## lista com duas dimensões ou Matriz 2D"
   ]
  },
  {
   "cell_type": "markdown",
   "id": "560f8b49",
   "metadata": {},
   "source": [
    "Vimos que as listas podem ser usadas ou interpretadas como vetores. No entanto, elas podem ser utilizadas como matriz 2D. alguns metodos vistos acima para listas/vetores podem ser empregados também para esses matrizes.  \n"
   ]
  },
  {
   "cell_type": "code",
   "execution_count": 73,
   "id": "c11a498f",
   "metadata": {},
   "outputs": [
    {
     "data": {
      "text/plain": [
       "3"
      ]
     },
     "execution_count": 73,
     "metadata": {},
     "output_type": "execute_result"
    }
   ],
   "source": [
    "matriz_vazia = [\n",
    "    [],\n",
    "    [],\n",
    "    [],\n",
    "]\n",
    "len(matriz_vazia)"
   ]
  },
  {
   "cell_type": "markdown",
   "id": "1f01ec3d",
   "metadata": {},
   "source": [
    "Note que saida 3 pode ser intrepretada como (3,1). Ou seja, 3 linha e 1 coluna."
   ]
  },
  {
   "cell_type": "code",
   "execution_count": 82,
   "id": "4c074c20",
   "metadata": {},
   "outputs": [
    {
     "name": "stdout",
     "output_type": "stream",
     "text": [
      "3\n",
      "[[1, 0], [5, 6], [9.7]]\n"
     ]
    }
   ],
   "source": [
    "matriz_2 = [\n",
    "    [1, 0],\n",
    "    [5, 6],\n",
    "    [9.7],\n",
    "]\n",
    "print(len(matriz_2))\n",
    "print(matriz_2)"
   ]
  },
  {
   "cell_type": "markdown",
   "id": "04224d7a",
   "metadata": {},
   "source": [
    "A matriz_2 possui tamanho (3,2).Ou seja, 3 linhas e 2 colunas. \n",
    "\n",
    "    Outra forma de visualizar a matriz."
   ]
  },
  {
   "cell_type": "code",
   "execution_count": 83,
   "id": "528e6ea0",
   "metadata": {},
   "outputs": [
    {
     "name": "stdout",
     "output_type": "stream",
     "text": [
      "1 0 \n",
      "5 6 \n",
      "9.7 \n"
     ]
    }
   ],
   "source": [
    "for lista in matriz_2:\n",
    "    for elemento in lista:\n",
    "        print(elemento, end=' ')\n",
    "    print()"
   ]
  },
  {
   "cell_type": "markdown",
   "id": "0609b74d",
   "metadata": {},
   "source": [
    "# Arrays"
   ]
  },
  {
   "cell_type": "code",
   "execution_count": 31,
   "id": "ad1dd5e7",
   "metadata": {},
   "outputs": [
    {
     "name": "stdout",
     "output_type": "stream",
     "text": [
      "The watermark extension is already loaded. To reload it, use:\n",
      "  %reload_ext watermark\n",
      "Python implementation: CPython\n",
      "Python version       : 3.10.0\n",
      "IPython version      : 7.29.0\n",
      "\n",
      "wget         : 3.2\n",
      "pandas       : 1.3.4\n",
      "numpy        : 1.21.4\n",
      "geopy        : 2.2.0\n",
      "altair       : 4.1.0\n",
      "vega         : 3.5.0\n",
      "vega_datasets: 0.9.0\n",
      "watermark    : 2.2.0\n",
      "\n",
      "Compiler    : GCC 9.3.0\n",
      "OS          : Linux\n",
      "Release     : 5.13.0-7620-generic\n",
      "Machine     : x86_64\n",
      "Processor   : x86_64\n",
      "CPU cores   : 4\n",
      "Architecture: 64bit\n",
      "\n",
      " \n",
      "Last updated: Sat Nov 06 2021 19:20:40-03\n",
      "\n"
     ]
    }
   ],
   "source": [
    "%load_ext watermark\n",
    "\n",
    "# python, ipython, packages, and machine characteristics\n",
    "%watermark -v -m -p wget,pandas,numpy,geopy,altair,vega,vega_datasets,watermark \n",
    "\n",
    "# date\n",
    "print (\" \")\n",
    "%watermark -u -n -t -z "
   ]
  }
 ],
 "metadata": {
  "kernelspec": {
   "display_name": "EnvWithPy3.10",
   "language": "python",
   "name": "envwithpy3.10"
  },
  "language_info": {
   "codemirror_mode": {
    "name": "ipython",
    "version": 3
   },
   "file_extension": ".py",
   "mimetype": "text/x-python",
   "name": "python",
   "nbconvert_exporter": "python",
   "pygments_lexer": "ipython3",
   "version": "3.10.0"
  },
  "nbTranslate": {
   "displayLangs": [
    "*"
   ],
   "hotkey": "alt-t",
   "langInMainMenu": true,
   "sourceLang": "en",
   "targetLang": "fr",
   "useGoogleTranslate": true
  },
  "toc": {
   "base_numbering": 1,
   "nav_menu": {},
   "number_sections": true,
   "sideBar": true,
   "skip_h1_title": false,
   "title_cell": "Sumário",
   "title_sidebar": "Conteudo",
   "toc_cell": true,
   "toc_position": {
    "height": "calc(100% - 180px)",
    "left": "10px",
    "top": "150px",
    "width": "273.182px"
   },
   "toc_section_display": true,
   "toc_window_display": false
  },
  "varInspector": {
   "cols": {
    "lenName": 16,
    "lenType": 16,
    "lenVar": 40
   },
   "kernels_config": {
    "python": {
     "delete_cmd_postfix": "",
     "delete_cmd_prefix": "del ",
     "library": "var_list.py",
     "varRefreshCmd": "print(var_dic_list())"
    },
    "r": {
     "delete_cmd_postfix": ") ",
     "delete_cmd_prefix": "rm(",
     "library": "var_list.r",
     "varRefreshCmd": "cat(var_dic_list()) "
    }
   },
   "types_to_exclude": [
    "module",
    "function",
    "builtin_function_or_method",
    "instance",
    "_Feature"
   ],
   "window_display": false
  }
 },
 "nbformat": 4,
 "nbformat_minor": 5
}
